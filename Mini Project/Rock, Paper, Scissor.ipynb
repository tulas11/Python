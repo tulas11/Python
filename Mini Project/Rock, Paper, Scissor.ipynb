{
 "cells": [
  {
   "cell_type": "code",
   "execution_count": 17,
   "id": "2e6ef46f",
   "metadata": {},
   "outputs": [
    {
     "name": "stdout",
     "output_type": "stream",
     "text": [
      "Enter 0 Rock,1 Paper,2 Scissor:2\n",
      "User: ✌️\n",
      "Computer: ✊\n",
      "You lose\n"
     ]
    }
   ],
   "source": [
    "import random\n",
    "rock=\"✊\"\n",
    "paper=\"🖐\"\n",
    "scissor=\"✌️\"\n",
    "game_images=[rock,paper,scissor]\n",
    "user_choice=int(input(\"Enter 0 Rock,1 Paper,2 Scissor:\"))\n",
    "\n",
    "if user_choice >=3 or user_choice < 0:\n",
    "    print(\"You lose because wrong number\")\n",
    "\n",
    "else:\n",
    "    computer_choice = random.randint(0,2)\n",
    "    \n",
    "    print(\"User:\",game_images[user_choice])\n",
    "    print(\"Computer:\",game_images[computer_choice])\n",
    "   \n",
    "    if (computer_choice == user_choice):\n",
    "        print(\"Its a draw\")\n",
    "    elif (computer_choice==0 and user_choice==2):\n",
    "        print(\"You lose\")\n",
    "    elif (user_choice==0 and computer_choice==2):\n",
    "        print(\"You win\")\n",
    "    elif (computer_choice > user_choice):\n",
    "        print(\"You lose\")\n",
    "    elif (user_choice > computer_choice):\n",
    "        print(\"You win\")\n"
   ]
  },
  {
   "cell_type": "code",
   "execution_count": null,
   "id": "836f0886",
   "metadata": {},
   "outputs": [],
   "source": []
  },
  {
   "cell_type": "code",
   "execution_count": null,
   "id": "b32aa256",
   "metadata": {},
   "outputs": [],
   "source": []
  }
 ],
 "metadata": {
  "kernelspec": {
   "display_name": "Python 3 (ipykernel)",
   "language": "python",
   "name": "python3"
  },
  "language_info": {
   "codemirror_mode": {
    "name": "ipython",
    "version": 3
   },
   "file_extension": ".py",
   "mimetype": "text/x-python",
   "name": "python",
   "nbconvert_exporter": "python",
   "pygments_lexer": "ipython3",
   "version": "3.11.4"
  }
 },
 "nbformat": 4,
 "nbformat_minor": 5
}
